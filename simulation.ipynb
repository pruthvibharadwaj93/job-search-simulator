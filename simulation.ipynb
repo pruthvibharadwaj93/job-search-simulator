{
 "cells": [
  {
   "cell_type": "code",
   "execution_count": 1,
   "metadata": {},
   "outputs": [],
   "source": [
    "import numpy as np"
   ]
  },
  {
   "cell_type": "code",
   "execution_count": 18,
   "metadata": {},
   "outputs": [
    {
     "name": "stdout",
     "output_type": "stream",
     "text": [
      "{'day1': {'a1': {}, 'a2': {}, 'a3': {}, 'a4': {}, 'a5': {}, 'a6': {}, 'a7': {}, 'a8': {}, 'a9': {}, 'a10': {}, 'a11': {}, 'a12': {}, 'a13': {}, 'a14': {}, 'a15': {}, 'a16': {}, 'a17': {}, 'a18': {}, 'a19': {}}, 'day2': {'a1': {}, 'a2': {}, 'a3': {}, 'a4': {}, 'a5': {}, 'a6': {}, 'a7': {}, 'a8': {}, 'a9': {}, 'a10': {}, 'a11': {}, 'a12': {}}, 'day3': {'a1': {}, 'a2': {}, 'a3': {}, 'a4': {}, 'a5': {}, 'a6': {}, 'a7': {}}, 'day4': {'a1': {}, 'a2': {}, 'a3': {}, 'a4': {}, 'a5': {}, 'a6': {}, 'a7': {}, 'a8': {}, 'a9': {}, 'a10': {}, 'a11': {}, 'a12': {}, 'a13': {}, 'a14': {}, 'a15': {}, 'a16': {}, 'a17': {}, 'a18': {}}, 'day5': {'a1': {}, 'a2': {}, 'a3': {}, 'a4': {}, 'a5': {}, 'a6': {}, 'a7': {}, 'a8': {}, 'a9': {}}, 'day6': {'a1': {}, 'a2': {}}, 'day7': {'a1': {}, 'a2': {}}}\n"
     ]
    }
   ],
   "source": [
    "class SimulateJobSearch:\n",
    "    def __init__(self, weekday_prior_params=(2, 7.5), weekend_prior_params=(2, 2.5)):\n",
    "        \"\"\"\n",
    "        Initialize the job search simulation with priors for weekdays and weekends.\n",
    "        \n",
    "        Parameters:\n",
    "            weekday_prior_params (tuple): Parameters (shape, scale) for the Gamma prior on weekdays.\n",
    "            weekend_prior_params (tuple): Parameters (shape, scale) for the Gamma prior on weekends.\n",
    "        \"\"\"\n",
    "        self.weekday_prior_params = weekday_prior_params\n",
    "        self.weekend_prior_params = weekend_prior_params\n",
    "        self.applications_dict = {}\n",
    "\n",
    "    def sample_applications(self, day):\n",
    "        \"\"\"\n",
    "        Samples the number of applications based on a Poisson distribution with a Gamma prior.\n",
    "        Returns a dictionary where each application is represented by a key ('a1', 'a2', etc.)\n",
    "        with an empty dictionary as the value.\n",
    "\n",
    "        Parameters:\n",
    "            day (int): The current day to determine if it's a weekend.\n",
    "\n",
    "        Returns:\n",
    "            dict: A dictionary where keys are application identifiers ('a1', 'a2', etc.),\n",
    "                  and values are empty dictionaries.\n",
    "        \"\"\"\n",
    "        is_weekend = (day % 7 in [6, 0])  # Assuming day 1 is a Monday\n",
    "        if is_weekend:\n",
    "            # Sample the Poisson mean (λ) from the Gamma prior for weekends\n",
    "            mean_lambda = np.random.gamma(*self.weekend_prior_params)\n",
    "        else:\n",
    "            # Sample the Poisson mean (λ) from the Gamma prior for weekdays\n",
    "            mean_lambda = np.random.gamma(*self.weekday_prior_params)\n",
    "        \n",
    "        # Sample the number of applications from a Poisson distribution with the sampled mean\n",
    "        num_applications = np.random.poisson(mean_lambda)\n",
    "        \n",
    "        # Create the application dictionary\n",
    "        day_dict = {f\"a{i+1}\": {} for i in range(num_applications)}\n",
    "        \n",
    "        return day_dict\n",
    "\n",
    "    def append_to_application_dict(self, day):\n",
    "        \"\"\"\n",
    "        Appends the dictionary returned by sample_applications to the applications_dict.\n",
    "\n",
    "        Parameters:\n",
    "            day (int): The current day to append data for.\n",
    "        \"\"\"\n",
    "        self.applications_dict[f\"day{day}\"] = self.sample_applications(day)\n",
    "\n",
    "    def simulate_days(self, num_days):\n",
    "        \"\"\"\n",
    "        Simulates a given number of days and populates the applications_dict.\n",
    "\n",
    "        Parameters:\n",
    "            num_days (int): The number of days to simulate.\n",
    "        \"\"\"\n",
    "        for day in range(1, num_days + 1):\n",
    "            self.append_to_application_dict(day)\n",
    "\n",
    "    def get_applications_dict(self):\n",
    "        \"\"\"\n",
    "        Returns the applications_dict.\n",
    "\n",
    "        Returns:\n",
    "            dict: The applications_dict containing all simulated data.\n",
    "        \"\"\"\n",
    "        return self.applications_dict\n",
    "\n",
    "\n",
    "# Example usage\n",
    "np.random.seed(42)  # For reproducibility\n",
    "\n",
    "# Initialize the simulation\n",
    "job_search_sim = SimulateJobSearch()\n",
    "\n",
    "# Simulate 5 days\n",
    "job_search_sim.simulate_days(7)\n",
    "\n",
    "# Get the applications dictionary\n",
    "applications_dict = job_search_sim.get_applications_dict()\n",
    "print(applications_dict)\n"
   ]
  },
  {
   "cell_type": "code",
   "execution_count": null,
   "metadata": {},
   "outputs": [],
   "source": []
  }
 ],
 "metadata": {
  "kernelspec": {
   "display_name": "autoapply",
   "language": "python",
   "name": "python3"
  },
  "language_info": {
   "codemirror_mode": {
    "name": "ipython",
    "version": 3
   },
   "file_extension": ".py",
   "mimetype": "text/x-python",
   "name": "python",
   "nbconvert_exporter": "python",
   "pygments_lexer": "ipython3",
   "version": "3.11.5"
  }
 },
 "nbformat": 4,
 "nbformat_minor": 2
}
